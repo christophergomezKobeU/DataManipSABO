{
   "source": [
    "import requests\n",
    "import os\n",
    "\n",
    "# C. Gomez, 2023 砂防研, \n
    "# Define the function to download images 画像をダウンロードする関数を定義してください。\n",
    "def download_images_from_urls(url_file, download_dir):\n",
    "    # Create the download directory if it doesn't exist\n",
    "    if not os.path.exists(download_dir):\n",
    "        os.makedirs(download_dir)\n",
    "    \n",
    "    # Read the URLs from the file ファイルからURLを読み取ります。\n",
    "    with open(url_file, 'r') as file:\n",
    "        urls = file.readlines()\n",
    "    \n",
    "    # Loop through the URLs and download the images URLをループして、画像をダウンロードします。\n",
    "    for url in urls:\n",
    "        # Remove newline characters\n",
    "        url = url.strip()\n",
    "        try:\n",
    "            response = requests.get(url)\n",
    "            if response.status_code == 200:\n",
    "                # Extract the filename from the URL\n",
    "                filename = os.path.join(download_dir, url.split('/')[-1])\n",
    "                # Save the image\n",
    "                with open(filename, 'wb') as img_file:\n",
    "                    img_file.write(response.content)\n",
    "                print(f\"Downloaded: {filename}\")\n",
    "            else:\n",
    "                print(f\"Failed to download: {url}, Status code: {response.status_code}\")\n",
    "        except Exception as e:\n",
    "            print(f\"Failed to download: {url}, Error: {str(e)}\")\n",
    "\n",
    "# Call the function with the path to urllist.txt and the directory to save images urllist.txtのパスと画像を保存するディレクトリを指定して、その関数を呼び出してください。\n",
    "download_images_from_urls('urllist.txt', 'downloaded_images')\n"
   ]
  },
  {
   "cell_type": "code",
   "execution_count": null,
   "id": "81075dcd",
   "metadata": {},
   "outputs": [],
   "source": []
  }
 ],
 "metadata": {
  "kernelspec": {
   "display_name": "Python 3 (ipykernel)",
   "language": "python",
   "name": "python3"
  },
  "language_info": {
   "codemirror_mode": {
    "name": "ipython",
    "version": 3
   },
   "file_extension": ".py",
   "mimetype": "text/x-python",
   "name": "python",
   "nbconvert_exporter": "python",
   "pygments_lexer": "ipython3",
   "version": "3.10.9"
  }
 },
 "nbformat": 4,
 "nbformat_minor": 5
}
