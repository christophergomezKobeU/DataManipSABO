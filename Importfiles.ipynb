import requests
import os

# Define the function to download images
def download_images_from_urls(url_file, download_dir):
    # Create the download directory if it doesn't exist
    if not os.path.exists(download_dir):
        os.makedirs(download_dir)
    
    # Read the URLs from the file
    with open(url_file, 'r') as file:
        urls = file.readlines()
    
    # Loop through the URLs and download the images
    for url in urls:
        # Remove newline characters
        url = url.strip()
        try:
            response = requests.get(url)
            if response.status_code == 200:
                # Extract the filename from the URL
                filename = os.path.join(download_dir, url.split('/')[-1])
                # Save the image
                with open(filename, 'wb') as img_file:
                    img_file.write(response.content)
                print(f"Downloaded: {filename}")
            else:
                print(f"Failed to download: {url}, Status code: {response.status_code}")
        except Exception as e:
            print(f"Failed to download: {url}, Error: {str(e)}")

# Call the function with the path to urllist.txt and the directory to save images
download_images_from_urls('urllist.txt', 'downloaded_images')
